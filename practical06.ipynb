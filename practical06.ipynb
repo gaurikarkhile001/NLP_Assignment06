{
  "cells": [
    {
      "cell_type": "markdown",
      "metadata": {
        "id": "6FAMhHUU19uu"
      },
      "source": [
        "# 6. A) Apply log linear model for sentiment analysis\n",
        "# B)Implement and extract Named Entity recognition techniques using given text:\n",
        "'''Deepak Jasani, Head of retail research, HDFC Securities, said: “Investors will look to the European Central Bank later Thursday for reassurance that surging prices are just transitory, and not about to spiral out of control. In addition to the ECB policy meeting, investors are awaiting a report later Thursday on US economic growth, which is likely to show a cooling recovery, as well as weekly jobs data.”.'''\n"
      ]
    },
    {
      "cell_type": "markdown",
      "metadata": {
        "id": "MUyqw9zp2GC4"
      },
      "source": [
        "A) Apply a Log-Linear Model for Sentiment Analysis\n",
        "We’ll use scikit-learn's Logistic Regression model (a type of log-linear model) on a small sample dataset for demonstration:"
      ]
    },
    {
      "cell_type": "code",
      "execution_count": 5,
      "metadata": {
        "colab": {
          "base_uri": "https://localhost:8080/"
        },
        "id": "E4CaMqMF18fH",
        "outputId": "9a6bdfdc-8846-4410-8ef2-174bffbd513f"
      },
      "outputs": [
        {
          "name": "stdout",
          "output_type": "stream",
          "text": [
            "Sentiment: Positive 😊\n"
          ]
        }
      ],
      "source": [
        "import nltk\n",
        "from sklearn.feature_extraction.text import CountVectorizer\n",
        "from sklearn.linear_model import LogisticRegression\n",
        "from sklearn.model_selection import train_test_split\n",
        "\n",
        "# Sample Data\n",
        "texts = [\n",
        "    \"I love this product, it's amazing!\",\n",
        "    \"Terrible experience, I hate it.\",\n",
        "    \"Really good quality and fast delivery.\",\n",
        "    \"Worst service ever.\",\n",
        "    \"I'm very happy with the purchase.\",\n",
        "    \"It's bad, don't buy it.\"\n",
        "]\n",
        "labels = [1, 0, 1, 0, 1, 0]  # 1 = positive, 0 = negative\n",
        "\n",
        "# Convert text to bag-of-words features\n",
        "vectorizer = CountVectorizer()\n",
        "X = vectorizer.fit_transform(texts)\n",
        "\n",
        "# Train Logistic Regression (log-linear model)\n",
        "X_train, X_test, y_train, y_test = train_test_split(X, labels, test_size=0.3)\n",
        "model = LogisticRegression()\n",
        "model.fit(X_train, y_train)\n",
        "\n",
        "# Test on new sentence\n",
        "test_text = [\"I am not happy with the product\"]\n",
        "test_vec = vectorizer.transform(test_text)\n",
        "pred = model.predict(test_vec)\n",
        "\n",
        "print(\"Sentiment:\", \"Positive 😊\" if pred[0] == 1 else \"Negative 😞\")\n"
      ]
    },
    {
      "cell_type": "markdown",
      "metadata": {
        "id": "n570X24S2SLc"
      },
      "source": [
        "B) Named Entity Recognition (NER) "
      ]
    },
    {
      "cell_type": "code",
      "execution_count": 7,
      "metadata": {
        "id": "MDmO_jTi2VEa"
      },
      "outputs": [
        {
          "name": "stderr",
          "output_type": "stream",
          "text": [
            "[nltk_data] Downloading package punkt to\n",
            "[nltk_data]     C:\\Users\\Gauri\\AppData\\Roaming\\nltk_data...\n",
            "[nltk_data]   Package punkt is already up-to-date!\n",
            "[nltk_data] Downloading package averaged_perceptron_tagger to\n",
            "[nltk_data]     C:\\Users\\Gauri\\AppData\\Roaming\\nltk_data...\n",
            "[nltk_data]   Package averaged_perceptron_tagger is already up-to-\n",
            "[nltk_data]       date!\n",
            "[nltk_data] Downloading package maxent_ne_chunker to\n",
            "[nltk_data]     C:\\Users\\Gauri\\AppData\\Roaming\\nltk_data...\n",
            "[nltk_data]   Package maxent_ne_chunker is already up-to-date!\n",
            "[nltk_data] Downloading package maxent_ne_chunker_tab to\n",
            "[nltk_data]     C:\\Users\\Gauri\\AppData\\Roaming\\nltk_data...\n",
            "[nltk_data]   Unzipping chunkers\\maxent_ne_chunker_tab.zip.\n",
            "[nltk_data] Downloading package words to\n",
            "[nltk_data]     C:\\Users\\Gauri\\AppData\\Roaming\\nltk_data...\n",
            "[nltk_data]   Package words is already up-to-date!\n"
          ]
        },
        {
          "name": "stdout",
          "output_type": "stream",
          "text": [
            "Named Entities:\n",
            "PERSON: Deepak\n",
            "ORGANIZATION: Jasani\n",
            "ORGANIZATION: HDFC Securities\n",
            "ORGANIZATION: European Central Bank\n",
            "ORGANIZATION: ECB\n",
            "GSP: US\n"
          ]
        }
      ],
      "source": [
        "import nltk\n",
        "from nltk import word_tokenize, pos_tag, ne_chunk\n",
        "\n",
        "nltk.download('punkt')\n",
        "nltk.download('averaged_perceptron_tagger')\n",
        "nltk.download('maxent_ne_chunker')\n",
        "nltk.download('maxent_ne_chunker_tab')\n",
        "nltk.download('words')\n",
        "\n",
        "text = '''Deepak Jasani, Head of retail research, HDFC Securities, said: “Investors will look to the European Central Bank Later Thursday for reassurance that surging prices are just transitory, and not about to spiral out of control. In addition to the ECB policy meeting, investors are awaiting a report later Thursday on US economic growth, which is likely to show a cooling recovery, as well as weekly jobs data.”'''\n",
        "\n",
        "# Tokenize, POS tagging, and chunking\n",
        "tokens = word_tokenize(text)\n",
        "tags = pos_tag(tokens)\n",
        "tree = ne_chunk(tags)\n",
        "\n",
        "# Extract named entities\n",
        "print(\"Named Entities:\")\n",
        "for subtree in tree:\n",
        "    if hasattr(subtree, 'label'):\n",
        "        print(f\"{subtree.label()}: {' '.join(c[0] for c in subtree)}\")\n"
      ]
    },
    {
      "cell_type": "code",
      "execution_count": null,
      "metadata": {},
      "outputs": [],
      "source": []
    }
  ],
  "metadata": {
    "colab": {
      "provenance": []
    },
    "kernelspec": {
      "display_name": ".venv",
      "language": "python",
      "name": "python3"
    },
    "language_info": {
      "codemirror_mode": {
        "name": "ipython",
        "version": 3
      },
      "file_extension": ".py",
      "mimetype": "text/x-python",
      "name": "python",
      "nbconvert_exporter": "python",
      "pygments_lexer": "ipython3",
      "version": "3.12.4"
    }
  },
  "nbformat": 4,
  "nbformat_minor": 0
}
