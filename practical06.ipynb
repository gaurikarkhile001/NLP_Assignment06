{
  "nbformat": 4,
  "nbformat_minor": 0,
  "metadata": {
    "colab": {
      "provenance": []
    },
    "kernelspec": {
      "name": "python3",
      "display_name": "Python 3"
    },
    "language_info": {
      "name": "python"
    }
  },
  "cells": [
    {
      "cell_type": "markdown",
      "source": [
        "# 6. A) Apply log linear model for sentiment analysis\n",
        "# B)Implement and extract Named Entity recognition techniques using given text:\n",
        "'''Deepak Jasani, Head of retail research, HDFC Securities, said: “Investors will look to the European Central Bank later Thursday for reassurance that surging prices are just transitory, and not about to spiral out of control. In addition to the ECB policy meeting, investors are awaiting a report later Thursday on US economic growth, which is likely to show a cooling recovery, as well as weekly jobs data.”.'''\n"
      ],
      "metadata": {
        "id": "6FAMhHUU19uu"
      }
    },
    {
      "cell_type": "markdown",
      "source": [
        "A) Apply a Log-Linear Model for Sentiment Analysis\n",
        "We’ll use scikit-learn's Logistic Regression model (a type of log-linear model) on a small sample dataset for demonstration:"
      ],
      "metadata": {
        "id": "MUyqw9zp2GC4"
      }
    },
    {
      "cell_type": "code",
      "execution_count": 1,
      "metadata": {
        "colab": {
          "base_uri": "https://localhost:8080/"
        },
        "id": "E4CaMqMF18fH",
        "outputId": "9a6bdfdc-8846-4410-8ef2-174bffbd513f"
      },
      "outputs": [
        {
          "output_type": "stream",
          "name": "stdout",
          "text": [
            "Sentiment Prediction: Positive\n"
          ]
        }
      ],
      "source": [
        "from sklearn.feature_extraction.text import CountVectorizer\n",
        "from sklearn.linear_model import LogisticRegression\n",
        "from sklearn.pipeline import Pipeline\n",
        "\n",
        "# Sample dataset for sentiment analysis\n",
        "texts = [\n",
        "    \"I love this product!\",     # Positive\n",
        "    \"This is amazing!\",         # Positive\n",
        "    \"I hate this service.\",     # Negative\n",
        "    \"This is the worst ever.\",  # Negative\n",
        "    \"Not bad, quite good.\",     # Positive\n",
        "    \"Terrible experience.\",     # Negative\n",
        "]\n",
        "labels = [1, 1, 0, 0, 1, 0]  # 1 = Positive, 0 = Negative\n",
        "\n",
        "# Create a pipeline with count vectorizer and logistic regression (log-linear model)\n",
        "model = Pipeline([\n",
        "    ('vectorizer', CountVectorizer()),\n",
        "    ('classifier', LogisticRegression())\n",
        "])\n",
        "\n",
        "# Train the model\n",
        "model.fit(texts, labels)\n",
        "\n",
        "# Predict sentiment for a new text\n",
        "test_text = [\"This service is not good.\"]\n",
        "prediction = model.predict(test_text)\n",
        "print(f\"Sentiment Prediction: {'Positive' if prediction[0] == 1 else 'Negative'}\")\n"
      ]
    },
    {
      "cell_type": "markdown",
      "source": [
        "B) Named Entity Recognition (NER) using spaCy\n",
        "We’ll use spaCy to extract named entities from the given text:"
      ],
      "metadata": {
        "id": "n570X24S2SLc"
      }
    },
    {
      "cell_type": "code",
      "source": [
        "import spacy\n",
        "\n",
        "# Load spaCy English model\n",
        "nlp = spacy.load(\"en_core_web_sm\")\n",
        "\n",
        "# Given text\n",
        "text = \"\"\"Deepak Jasani, Head of retail research, HDFC Securities, said: “Investors will look to the European Central Bank later Thursday for reassurance that surging prices are just transitory, and not about to spiral out of control. In addition to the ECB policy meeting, investors are awaiting a report later Thursday on US economic growth, which is likely to show a cooling recovery, as well as weekly jobs data.”\"\"\"\n",
        "\n",
        "# Process the text\n",
        "doc = nlp(text)\n",
        "\n",
        "# Print named entities\n",
        "print(\"Named Entities, Phrases, and Labels:\")\n",
        "for ent in doc.ents:\n",
        "    print(f\"{ent.text} -> {ent.label_}\")\n"
      ],
      "metadata": {
        "colab": {
          "base_uri": "https://localhost:8080/"
        },
        "id": "5T3mCsk72Jde",
        "outputId": "6a99f279-2188-4aa2-eb1b-b9880743848d"
      },
      "execution_count": 2,
      "outputs": [
        {
          "output_type": "stream",
          "name": "stdout",
          "text": [
            "Named Entities, Phrases, and Labels:\n",
            "Deepak Jasani -> PERSON\n",
            "HDFC Securities -> ORG\n",
            "the European Central Bank -> ORG\n",
            "later Thursday -> DATE\n",
            "ECB -> ORG\n",
            "later Thursday -> DATE\n",
            "US -> GPE\n",
            "weekly -> DATE\n"
          ]
        }
      ]
    },
    {
      "cell_type": "code",
      "source": [],
      "metadata": {
        "id": "MDmO_jTi2VEa"
      },
      "execution_count": null,
      "outputs": []
    }
  ]
}